{
 "cells": [
  {
   "attachments": {
    "image.png": {
     "image/png": ""
    }
   },
   "cell_type": "markdown",
   "metadata": {},
   "source": [
    "![image.png](attachment:image.png)"
   ]
  },
  {
   "cell_type": "markdown",
   "metadata": {},
   "source": [
    "# Programación orientada a objetos con Python       -    Fecha:07/05/2021"
   ]
  },
  {
   "cell_type": "markdown",
   "metadata": {},
   "source": [
    "En POO (Programación Orientada a Objetos) debemos tener más o menos claro la diferencia entre una clase y un objeto, como es normal, estos conceptos los afianzaremos por medio de la práctica pero también es necesaria una base teórica para comprenderlo realmente.\n",
    "\n",
    "<b>Una clase</b> es una plantilla para la creación de objetos de datos según un modelo definido previamente. Las clases se utilizan para la definición de atributos (variables) y métodos (funciones).\n",
    "\n",
    "<b>Un objeto</b> sería una instancia de esa clase, es decir, un objeto sería la llamada a una clase. Por ejemplo, cuando importábamos el módulo random de python, este módulo en sí es una clase, al llamar a dicha clase estamos creando una instancia (objeto) de dicha clase. Cuando llamamos al método randint() realmente estamos llamando al método randint de la clase random a través de un objeto creado para dicho fin.\n",
    "\n",
    "Viendo esta relación, podemos llegar fácilmente a la conclusión de que para crear un objeto, debemos crear previamente la clase, la cual queremos instanciar.\n",
    "\n",
    "Con la teoría aprendida, vamos a verlo más fácil con un ejemplo.\n",
    "\n",
    "Implementaremos una clase llamada Persona que tendrá como atributo (variable) el nombre de la persona y dos métodos (funciones). El primero de los métodos inicializará el atributo nombre y el segundo mostrará por pantalla el contenido del mismo. Definir dos instancias (objetos) de la clase Persona."
   ]
  },
  {
   "cell_type": "code",
   "execution_count": null,
   "metadata": {},
   "outputs": [],
   "source": []
  },
  {
   "cell_type": "markdown",
   "metadata": {},
   "source": [
    "https://medium.com/swlh/aggregation-vs-composition-in-object-oriented-programming-3fa4fd471a9f\n",
    "\n",
    "\n",
    "In Object Oriented Programming, there are many different types of relationships which can exist between two or more classes. The most common two types are:\n",
    "\n",
    "### Inheritance — an “is a” relationship\n",
    "\n",
    "### Association — a “has a” relationship\n",
    "\n",
    "\n",
    "This blog is going to do a deep dive into the two types of Association relationships — Aggregation and Composition.\n",
    "\n",
    "### What is an Association relationship?\n",
    "An association relationship between two classes is a “has a” relationship. For example:\n",
    "\n",
    "A Car has an Engine and a Wheel\n",
    "A Person has a Leg and an Arm\n",
    "A Book has Pages\n",
    "\n",
    "This usually represents when there are two classes, ClassA and ClassB, and either:\n",
    "\n",
    "ClassA contains ClassB as an attribute, or\n",
    "\n",
    "Instances of ClassB are constructed inside ClassA\n",
    "\n",
    "### What’s the difference between Aggregation and Composition?\n",
    "There are two sub-types of Association relationships — Aggregation and Composition. What’s the difference between these two?\n",
    "\n",
    "### Composition\n",
    "\n",
    "Composition implies that the contained class cannot exist independently of the container. If the container is destroyed, the child is also destroyed.\n",
    "Take for example a Page and a Book. The Page cannot exist without the Book, because the book is composed of Pages. \n",
    "If the Book is destroyed, the Page is also destroyed.\n",
    "\n",
    "In code, this usually refers to the child instance being created inside the container class:\n"
   ]
  },
  {
   "cell_type": "code",
   "execution_count": null,
   "metadata": {},
   "outputs": [],
   "source": [
    "class Book:\n",
    "    def __init__(self):\n",
    "        page1 = Page('This is content for page 1')\n",
    "        page2 = Page('This is content for page 2')\n",
    "        self.pages = [page1, page2]\n",
    "\n",
    "class Page:\n",
    "    def __init__(self, content):\n",
    "        self.content = content\n",
    "\n",
    "book = Book() # If I destroy this Book instance,\n",
    "# the Page instances are also destroyed\n"
   ]
  },
  {
   "cell_type": "markdown",
   "metadata": {},
   "source": [
    "### Aggregation\n",
    "\n",
    "With an aggregation, the child can exist independently of the parent.\n",
    "So thinking of a Car and an Engine, the Engine doesn’t need to be destroyed when the Car is destroyed.\n"
   ]
  },
  {
   "cell_type": "code",
   "execution_count": null,
   "metadata": {},
   "outputs": [],
   "source": [
    "class Car:\n",
    "    def __init__(self, engine):\n",
    "        self.engine = engine\n",
    "\n",
    "class Engine:\n",
    "    def __init__(self):\n",
    "        pass\n",
    "engine = Engine()\n",
    "car = Car(engine) # If I destroy this Car instance,\n",
    "# the Engine instance still exists\n",
    "                  "
   ]
  },
  {
   "attachments": {
    "image.png": {
     "image/png": "[encoded data removed]"
    }
   },
   "cell_type": "markdown",
   "metadata": {},
   "source": [
    "![image.png](attachment:image.png)"
   ]
  },
  {
   "cell_type": "code",
   "execution_count": null,
   "metadata": {},
   "outputs": [],
   "source": []
  },
  {
   "cell_type": "markdown",
   "metadata": {},
   "source": [
    "https://byte-mind.net/curso-python-poo/\n",
    "\n",
    "https://github.com/shokone/python-exercices\n"
   ]
  },
  {
   "cell_type": "code",
   "execution_count": 1,
   "metadata": {},
   "outputs": [
    {
     "name": "stdout",
     "output_type": "stream",
     "text": [
      "Nombre:  Marcos\n",
      "Nombre:  Ivan\n"
     ]
    }
   ],
   "source": [
    "# creamos la clase\n",
    "class Persona:\n",
    "    # creamos la primera funcion\n",
    "    # para inicializar el atributo nombre\n",
    "    def inicializar(self,nom):\n",
    "        self.nombre=nom\n",
    " \n",
    " \n",
    "    # creamos el segundo metodo\n",
    "    # para mostrar el nombre\n",
    "    def mostrar(self):\n",
    "        print(\"Nombre: \",self.nombre)\n",
    "\n",
    "#bloque principal\n",
    "# creamos una instancia de la clase persona\n",
    "persona1=Persona()\n",
    "persona1.inicializar(\"Marcos\")\n",
    "persona1.mostrar()\n",
    " \n",
    "# creamos un objeto de la clase persona\n",
    "persona2=Persona()\n",
    "persona2.inicializar(\"Ivan\")\n",
    "persona2.mostrar()"
   ]
  },
  {
   "cell_type": "code",
   "execution_count": null,
   "metadata": {},
   "outputs": [],
   "source": []
  },
  {
   "cell_type": "code",
   "execution_count": null,
   "metadata": {},
   "outputs": [],
   "source": []
  },
  {
   "cell_type": "markdown",
   "metadata": {},
   "source": [
    "### Ejercicio 5\n",
    "Realizar una clase que administre una agenda. Se debe almacenar para cada contacto el nombre, el teléfono y el email. Además deberá mostrar un menú con las siguientes opciones\n",
    "\n",
    "    Añadir contacto\n",
    "    Lista de contactos\n",
    "    Buscar contacto\n",
    "    Editar contacto\n",
    "    Cerrar agenda\n"
   ]
  },
  {
   "cell_type": "markdown",
   "metadata": {},
   "source": [
    "### Ejercicio 6\n",
    "Un banco tienen clientes que pueden hacer depósitos y extracciones de dinero. El banco requiere también (por ej. al final del día) calcular la cantidad de dinero que se ha depositado.\n",
    "\n",
    "Se deberán crear dos clases, la clase cliente y la clase banco. La clase cliente tendrá los atributos nombre y cantidad y los métodos __init__, depositar, extraer, mostrar_total.\n",
    "\n",
    "La clase banco tendrá como atributos 3 objetos de la clase cliente y los métodos __init__, operar y deposito_total."
   ]
  },
  {
   "cell_type": "markdown",
   "metadata": {},
   "source": [
    "### Ejercicio 7\n",
    "Desarrollar un programa que conste de una clase padre \"Cuenta\" y dos subclases \"PlazoFijo\" y \"CajaAhorro\". Definir los atributos \"titular\" y \"cantidad\" y un método para \"imprimir\" los datos en la clase Cuenta. La clase \"CajaAhorro\" tendrá un método para heredar los datos y uno para mostrar la información.\n",
    "\n",
    "La clase PlazoFijo tendrá dos atributos propios, \"plazo\" e \"interés\". Tendrá un método para obtener el importe del interés (cantidad*interés/100) y otro método para mostrar la información, datos del titular plazo, interés y total de interés.\n",
    "\n",
    "Crear al menos un objeto de cada subclase.\n"
   ]
  },
  {
   "cell_type": "code",
   "execution_count": 2,
   "metadata": {},
   "outputs": [],
   "source": [
    "# creamos nuestra clase agenda\n",
    "class Agenda:\n",
    "\t# iniciamos nuestra clase\n",
    "\tdef __init__(self):\n",
    "\t\t# crearemos una lista donde guardaremos los datos de nuestra agenda\n",
    "\t\tself.contactos=[]\n",
    " \n",
    " \n",
    "\t# función para añadir un contacto\n",
    "\tdef anadir(self):\n",
    "\t\tprint(\"---------------------\")\n",
    "\t\tprint(\"Añadir nuevo contacto\")\n",
    "\t\tprint(\"---------------------\")\n",
    "\t\tnom=input(\"Introduzca el nombre: \")\n",
    "\t\ttelf=int(input(\"Introduzca el teléfono: \"))\n",
    "\t\temail=input(\"Introduzca el email: \")\n",
    "\t\tself.contactos.append({'nombre':nom,'telf':telf,'email':email})\n",
    "\t\t\n",
    " \n",
    "\t# función para imprimir la lista de contactos\n",
    "\t# En este caso imprimiremos solo los nombres de los contactos\n",
    "\t# con ellos podremos buscar luego un contacto\n",
    "\tdef lista(self):\n",
    "\t\tprint(\"------------------\")\n",
    "\t\tprint(\"Lista de contactos\")\n",
    "\t\tprint(\"------------------\")\n",
    "\t\tif len(self.contactos) == 0:\n",
    "\t\t\tprint(\"No hay ningún contacto en la agenda\")\n",
    "\t\telse:\n",
    "\t\t\tfor x in range(len(self.contactos)):\n",
    "\t\t\t\tprint(self.contactos[x]['nombre'])\n",
    "\t\t\n",
    " \n",
    "\t# función para buscar un contacto a través del nombre\n",
    "\tdef buscar(self):\n",
    "\t\tprint(\"---------------------\")\n",
    "\t\tprint(\"Buscador de contactos\")\n",
    "\t\tprint(\"---------------------\")\n",
    "\t\tnom=input(\"Introduzca el nombre del contacto: \")\n",
    "\t\tfor x in range(len(self.contactos)):\n",
    "\t\t\tif nom == self.contactos[x]['nombre']:\n",
    "\t\t\t\tprint(\"Datos del contacto\")\n",
    "\t\t\t\tprint(\"Nombre: \",self.contactos[x]['nombre'])\n",
    "\t\t\t\tprint(\"Teléfono: \",self.contactos[x]['telf'])\n",
    "\t\t\t\tprint(\"E-mail: \",self.contactos[x]['email'])\n",
    "\t\t\t\treturn x\n"
   ]
  },
  {
   "cell_type": "code",
   "execution_count": 3,
   "metadata": {},
   "outputs": [],
   "source": [
    "# creamos la clase Cuenta\n",
    "class Cuenta:\n",
    "\t# inicializamos los atributos de la clase\n",
    "\tdef __init__(self,titular,cantidad):\n",
    "\t\tself.titular=titular\n",
    "\t\tself.cantidad=cantidad\n",
    "\n",
    "\t# imprimimos los datos\n",
    "\tdef imprimir(self):\n",
    "\t\tprint(\"Titular: \",self.titular)\n",
    "\t\tprint(\"Cantidad: \", self.cantidad)\n",
    "\n",
    "\n",
    "# creamos la clase CajaAhorro\n",
    "# esta clase hereda atributos de la clase Cuenta\n",
    "class CajaAhorro(Cuenta):\n",
    "\t# iniciamos los atributos de la clase\n",
    "\tdef __init__(self,titular,cantidad):\n",
    "\t\tsuper().__init__(titular,cantidad)\n",
    "\n",
    "\t# imprimimos los datos de la cuenta\n",
    "\tdef imprimir(self):\n",
    "\t\tprint(\"Cuenta de caja de ahorros\")\n",
    "\t\tsuper().imprimir()\n",
    "\n",
    "\n",
    "# creamos la clase PlazoFijo\n",
    "# esta clase también hereda atributos de la clase Cuenta\n",
    "class PlazoFijo(Cuenta):\n",
    "\t# inicializamos los atributos de la clase\n",
    "\tdef __init__(self,titular,cantidad,plazo,interes):\n",
    "\t\tsuper().__init__(titular,cantidad)\n",
    "\t\tself.plazo=plazo\n",
    "\t\tself.interes=interes\n",
    "\n",
    "\n",
    "\t# calculamos la ganancia\n",
    "\tdef ganancia(self):\n",
    "\t\tganancia=self.cantidad*self.interes/100\n",
    "\t\tprint(\"El importe de interés es: \",ganancia)\n",
    "\n",
    "\n",
    "\t# imprimimos los resultados\n",
    "\tdef imprimir(self):\n",
    "\t\tprint(\"Cuenta a plazo fijo\")\n",
    "\t\tsuper().imprimir()\n",
    "\t\tprint(\"Plazo disponible en días: \",self.plazo)\n",
    "\t\tprint(\"Interés: \",self.interes)\n",
    "\t\tself.ganancia()\n"
   ]
  },
  {
   "cell_type": "code",
   "execution_count": 7,
   "metadata": {
    "scrolled": true
   },
   "outputs": [
    {
     "name": "stdout",
     "output_type": "stream",
     "text": [
      "El total de dinero del banco es:  943\n",
      "Ivan  tiene depositada una cantidad de  600\n",
      "Marcos  tiene depositada una cantidad de  300\n",
      "Juan  tiene depositada una cantidad de  43\n"
     ]
    }
   ],
   "source": [
    "# creamos la clase banco\n",
    "class Banco:\n",
    "    # inicializamos\n",
    "    def __init__(self):\n",
    "        self.cliente1=Cliente(\"Ivan\")\n",
    "        self.cliente2=Cliente(\"Marcos\")\n",
    "        self.cliente3=Cliente(\"Juan\")\n",
    "        \n",
    "\n",
    "    # función para operar\n",
    "    def operacion(self):\n",
    "        self.cliente1.depositar(1000)\n",
    "        self.cliente2.depositar(300)\n",
    "        self.cliente3.depositar(43)\n",
    "        self.cliente1.extraer(400)\n",
    "\n",
    "    # función para obtener los depósitos totales\n",
    "    def depositos(self):\n",
    "        total=self.cliente1.devolver_cantidad()+self.cliente2.devolver_cantidad()+self.cliente3.devolver_cantidad()\n",
    "        print(\"El total de dinero del banco es: \",total)\n",
    "        self.cliente1.imprimir()\n",
    "        self.cliente2.imprimir()\n",
    "        self.cliente3.imprimir()\n",
    "\n",
    "\n",
    "\n",
    "# creamos la clase Cliente\n",
    "class Cliente:\n",
    "    # inicializamos\n",
    "    def __init__(self,nombre):\n",
    "        self.nombre=nombre\n",
    "        self.cantidad=0\n",
    "        self.CajaAhorro=CajaAhorro(self.nombre, 0)\n",
    "        self.PlazoFijo=PlazoFijo(self.nombre,0,0,0)\n",
    "\n",
    "    # función para depositar dinero\n",
    "    def depositar(self,cantidad):\n",
    "        self.cantidad+=cantidad\n",
    "\n",
    "    # función para extraer dinero\n",
    "    def extraer(self,cantidad):\n",
    "        self.cantidad-=cantidad\n",
    "    \n",
    "    # función para obtener el total de dinero\n",
    "    def devolver_cantidad(self):\n",
    "        return self.cantidad\n",
    "\n",
    "    # función para imprimir los datos del cliente\n",
    "    def imprimir(self):\n",
    "        print(self.nombre, \" tiene depositada una cantidad de \",self.cantidad)\n",
    "\n",
    "banco1=Banco()\n",
    "banco1.operacion()\n",
    "banco1.depositos()"
   ]
  },
  {
   "cell_type": "code",
   "execution_count": null,
   "metadata": {},
   "outputs": [],
   "source": []
  },
  {
   "cell_type": "code",
   "execution_count": 12,
   "metadata": {},
   "outputs": [
    {
     "name": "stdout",
     "output_type": "stream",
     "text": [
      "Cuenta de caja de ahorros\n",
      "Titular:  Ivan\n",
      "Cantidad:  1000\n"
     ]
    }
   ],
   "source": [
    "banco1.cliente1.CajaAhorro=CajaAhorro(banco1.cliente1.nombre,1000)\n",
    "banco1.cliente1.CajaAhorro.imprimir()"
   ]
  },
  {
   "cell_type": "code",
   "execution_count": 13,
   "metadata": {},
   "outputs": [
    {
     "name": "stdout",
     "output_type": "stream",
     "text": [
      "Cuenta a plazo fijo\n",
      "Titular:  Marcos\n",
      "Cantidad:  8000\n",
      "Plazo disponible en días:  365\n",
      "Interés:  1.2\n",
      "El importe de interés es:  96.0\n"
     ]
    }
   ],
   "source": [
    "banco1.cliente2.PlazoFijo=PlazoFijo(banco1.cliente2.nombre,8000,365,1.2)\n",
    "banco1.cliente2.PlazoFijo.imprimir()"
   ]
  }
 ],
 "metadata": {
  "kernelspec": {
   "display_name": "Python 3",
   "language": "python",
   "name": "python3"
  },
  "language_info": {
   "codemirror_mode": {
    "name": "ipython",
    "version": 3
   },
   "file_extension": ".py",
   "mimetype": "text/x-python",
   "name": "python",
   "nbconvert_exporter": "python",
   "pygments_lexer": "ipython3",
   "version": "3.7.6"
  }
 },
 "nbformat": 4,
 "nbformat_minor": 4
}
